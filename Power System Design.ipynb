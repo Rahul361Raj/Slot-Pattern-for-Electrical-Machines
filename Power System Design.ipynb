{
 "cells": [
  {
   "cell_type": "code",
   "execution_count": 1,
   "metadata": {},
   "outputs": [],
   "source": [
    "import numpy as np\n",
    "import pandas as pd\n",
    "import math as m"
   ]
  },
  {
   "cell_type": "markdown",
   "metadata": {},
   "source": [
    "# Taking Input Parameters"
   ]
  },
  {
   "cell_type": "code",
   "execution_count": 5,
   "metadata": {},
   "outputs": [],
   "source": [
    "#Assumption: Double layer winding\n",
    "phase = 3     #Number of Phases\n",
    "slots = 72   #Number of Slots\n",
    "poles = 6   #Number of poles\n",
    "phase_spread = 60    #phase spread in degrees"
   ]
  },
  {
   "cell_type": "markdown",
   "metadata": {},
   "source": [
    "# Calculating Distribution Factor"
   ]
  },
  {
   "cell_type": "code",
   "execution_count": 6,
   "metadata": {},
   "outputs": [
    {
     "name": "stdout",
     "output_type": "stream",
     "text": [
      "Slotes per pole:   12.0\n",
      "Slots per pole per phase:   4.0\n",
      "Angular displacement between the slots:   15.0\n",
      "Distribution Factor is:  0.9576621969425486\n"
     ]
    }
   ],
   "source": [
    "sp = slots/poles      #Slots per pole\n",
    "spp = (slots/poles)/phase     #Slots per pole per phase\n",
    "beta = 180/sp                #Angular displacement between the slots\n",
    "K = m.sin(np.deg2rad((spp*beta)/2))/(spp*m.sin(np.deg2rad(beta/2)))       #Distribution Factor \n",
    "print(\"Slotes per pole:  \", sp)\n",
    "print(\"Slots per pole per phase:  \", spp)\n",
    "print(\"Angular displacement between the slots:  \", beta)\n",
    "print(\"Distribution Factor is: \", K)"
   ]
  },
  {
   "cell_type": "markdown",
   "metadata": {},
   "source": [
    "# Coil Connection Diagram"
   ]
  },
  {
   "cell_type": "code",
   "execution_count": 7,
   "metadata": {},
   "outputs": [
    {
     "name": "stdout",
     "output_type": "stream",
     "text": [
      "-----------------\n",
      "-----------------\n",
      "PHASE  A\n",
      "Group  1\n",
      "1.0 <-----> 13.0 '\n",
      "2.0 <-----> 14.0 '\n",
      "3.0 <-----> 15.0 '\n",
      "4.0 <-----> 16.0 '\n",
      "-----------------\n",
      "Group  2\n",
      "13.0 <-----> 25.0 '\n",
      "14.0 <-----> 26.0 '\n",
      "15.0 <-----> 27.0 '\n",
      "16.0 <-----> 28.0 '\n",
      "-----------------\n",
      "Group  3\n",
      "25.0 <-----> 37.0 '\n",
      "26.0 <-----> 38.0 '\n",
      "27.0 <-----> 39.0 '\n",
      "28.0 <-----> 40.0 '\n",
      "-----------------\n",
      "Group  4\n",
      "37.0 <-----> 49.0 '\n",
      "38.0 <-----> 50.0 '\n",
      "39.0 <-----> 51.0 '\n",
      "40.0 <-----> 52.0 '\n",
      "-----------------\n",
      "Group  5\n",
      "49.0 <-----> 61.0 '\n",
      "50.0 <-----> 62.0 '\n",
      "51.0 <-----> 63.0 '\n",
      "52.0 <-----> 64.0 '\n",
      "-----------------\n",
      "Group  6\n",
      "61.0 <-----> 1.0 '\n",
      "62.0 <-----> 2.0 '\n",
      "63.0 <-----> 3.0 '\n",
      "64.0 <-----> 4.0 '\n",
      "-----------------\n",
      "-----------------\n",
      "-----------------\n",
      "PHASE  B\n",
      "Group  1\n",
      "9.0 <-----> 21.0 '\n",
      "10.0 <-----> 22.0 '\n",
      "11.0 <-----> 23.0 '\n",
      "12.0 <-----> 24.0 '\n",
      "-----------------\n",
      "Group  2\n",
      "21.0 <-----> 33.0 '\n",
      "22.0 <-----> 34.0 '\n",
      "23.0 <-----> 35.0 '\n",
      "24.0 <-----> 36.0 '\n",
      "-----------------\n",
      "Group  3\n",
      "33.0 <-----> 45.0 '\n",
      "34.0 <-----> 46.0 '\n",
      "35.0 <-----> 47.0 '\n",
      "36.0 <-----> 48.0 '\n",
      "-----------------\n",
      "Group  4\n",
      "45.0 <-----> 57.0 '\n",
      "46.0 <-----> 58.0 '\n",
      "47.0 <-----> 59.0 '\n",
      "48.0 <-----> 60.0 '\n",
      "-----------------\n",
      "Group  5\n",
      "57.0 <-----> 69.0 '\n",
      "58.0 <-----> 70.0 '\n",
      "59.0 <-----> 71.0 '\n",
      "60.0 <-----> 72.0 '\n",
      "-----------------\n",
      "Group  6\n",
      "69.0 <-----> 9.0 '\n",
      "70.0 <-----> 10.0 '\n",
      "71.0 <-----> 11.0 '\n",
      "72.0 <-----> 12.0 '\n",
      "-----------------\n",
      "-----------------\n",
      "-----------------\n",
      "PHASE  C\n",
      "Group  1\n",
      "17.0 <-----> 29.0 '\n",
      "18.0 <-----> 30.0 '\n",
      "19.0 <-----> 31.0 '\n",
      "20.0 <-----> 32.0 '\n",
      "-----------------\n",
      "Group  2\n",
      "29.0 <-----> 41.0 '\n",
      "30.0 <-----> 42.0 '\n",
      "31.0 <-----> 43.0 '\n",
      "32.0 <-----> 44.0 '\n",
      "-----------------\n",
      "Group  3\n",
      "41.0 <-----> 53.0 '\n",
      "42.0 <-----> 54.0 '\n",
      "43.0 <-----> 55.0 '\n",
      "44.0 <-----> 56.0 '\n",
      "-----------------\n",
      "Group  4\n",
      "53.0 <-----> 65.0 '\n",
      "54.0 <-----> 66.0 '\n",
      "55.0 <-----> 67.0 '\n",
      "56.0 <-----> 68.0 '\n",
      "-----------------\n",
      "Group  5\n",
      "65.0 <-----> 5.0 '\n",
      "66.0 <-----> 6.0 '\n",
      "67.0 <-----> 7.0 '\n",
      "68.0 <-----> 8.0 '\n",
      "-----------------\n",
      "Group  6\n",
      "5.0 <-----> 17.0 '\n",
      "6.0 <-----> 18.0 '\n",
      "7.0 <-----> 19.0 '\n",
      "8.0 <-----> 20.0 '\n",
      "-----------------\n"
     ]
    }
   ],
   "source": [
    "gbp = (360/phase)/beta    #slot gap between two phases\n",
    "gbg = sp          #slot gap between two groups of same phase\n",
    "gsf = sp        #slot gap between start and finish\n",
    "groups = poles    #Number of groups in each phase\n",
    "for i in range(phase):\n",
    "    print(\"-----------------\")\n",
    "    print(\"-----------------\")\n",
    "    print(\"PHASE \", chr(65+i))\n",
    "    g=0       \n",
    "    s=1+(i*gbp)      #starting point for first phase\n",
    "    for g in range(groups):\n",
    "        print(\"Group \", g+1)\n",
    "        if s>slots:\n",
    "            s = s-slots\n",
    "        for j in range(int(spp)):\n",
    "            start = s\n",
    "            if start>slots:\n",
    "                start = start-slots\n",
    "            finish = start+sp\n",
    "            if finish>slots:\n",
    "                finish = finish-slots\n",
    "            print(start, \"<----->\", finish, \"\\'\")\n",
    "            s = s+1\n",
    "        print(\"-----------------\")\n",
    "        s=s-spp\n",
    "        s= s+gbg\n",
    "        "
   ]
  },
  {
   "cell_type": "code",
   "execution_count": null,
   "metadata": {},
   "outputs": [],
   "source": []
  }
 ],
 "metadata": {
  "kernelspec": {
   "display_name": "Python 3",
   "language": "python",
   "name": "python3"
  },
  "language_info": {
   "codemirror_mode": {
    "name": "ipython",
    "version": 3
   },
   "file_extension": ".py",
   "mimetype": "text/x-python",
   "name": "python",
   "nbconvert_exporter": "python",
   "pygments_lexer": "ipython3",
   "version": "3.6.5"
  }
 },
 "nbformat": 4,
 "nbformat_minor": 2
}
